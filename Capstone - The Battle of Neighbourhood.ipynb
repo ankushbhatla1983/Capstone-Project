{
    "nbformat_minor": 1, 
    "cells": [
        {
            "source": "_Part 1 - Project desciption_\n\nThis project demonstrates an analysis of neighborhoods using heterogeneous data sources and data science methods by the example of Port Elizabeth And Durban City In South Africa. This requires the extraction, load, transformation and analysis of all data sources contained in the following notebook.\n\n\n_A Introduction / Business Problem_\n\nWhen thinking about relocating to a new city or country for work purposes or to start a new life, or to go for a holiday destination people tend to research areas before moving. This research includes population rate, average house price, school ratings, crime rates, weather conditions, recreational facilities, holiday destinations-tourism, Carnivals and Sports events/activity. etc.\nBased on the above, a search engine algorithm would be an efficient tool to use that will allow users to enter cities and get the neighborhood name that best suits their lifestyle or living conditions.\nIn this project, we will study in detail the area classification using foursquare data and machine learning segmentation and clustering. And segment areas of two cities based on the most common places captured from Foursquare.\n-This could be done using an algorithm (Using segmentation and clustering) that will perform an extensive analysis on\n\n1.    The similarities and dissimilarities between neighborhoods in the two cities of the user\u2019s search criteria, and \n2.    Determine which neighborhoods best suits their lifestyle.\n\nFor this project, I will be developing a recommendation system using the Port Elizabeth and Durban cities in South Africa as my search criteria:\n    Brief Information About: Port Elizabeth and Durban:\n\nPort Elizabeth and Durban are two major cities in South Africa Both the cities become a center of attention for residential, holiday destinations-tourism, education, job employment, shopping and sports activity. Both cities are well known in South Africa and become the top choice for local and foreign communities. Also for the best holiday destinations in the world because of its Mediterranean climate, vibrant nightlife, Michelin Star restaurants, scenic coastal drives, staggering mountain landscape and friendly people; the latter holds the top spot as a family-friendly destination and for its wonderful beaches and water activities.\n\n_Port Elizabeth_\n\nPort Elizabeth or The Bay[2] (Xhosa: iBhayi; Afrikaans: Die Baai [di \u02c8b\u0251\u02d0i]) is one of the major cities in South Africa; it is situated in the Eastern Cape Province, 770 km (478 mi) east of Cape Town. The city, often shortened to PE and nicknamed \"The Windy City\", stretches for 16 km along Algoa Bay, and is one of the major seaports in South Africa. Port Elizabeth is the southernmost large city on the African continent, just farther south than Cape Town. Port Elizabeth was founded as a town in 1820 to house British settlers as a way of strengthening the border region between the Cape Colony and the Xhosa. It now forms part of the Nelson Mandela Bay Metropolitan Municipality, which has a population of over 1.3 million.\n\n(Source - https://en.wikipedia.org/wiki/Port_Elizabeth )\n\n_Durban_\n\nDurban (Zulu: eThekwini, from itheku meaning \"bay/lagoon\") is the third most populous city in South Africa\u2014after Johannesburg and Cape Town\u2014and the largest city in the South African province of KwaZulu-Natal. Located on the east coast of South Africa, Durban is famous for being the busiest port in the country. It is also seen as one of the major Centres of tourism because of the city's warm subtropical climate and extensive beaches. Durban forms part of the eThekwini Metropolitan Municipality, which includes neighboring towns and has a population of about 3.44 million,[7] making the combined municipality one of the biggest cities on the Indian Ocean coast of the African continent. It is also the second most important manufacturing hub in South Africa after Johannesburg. In 2015, Durban was recognized as one of the New7Wonders Cities (along with Vigan, Doha, La Paz, Havana, Beirut, and Kuala Lumpur).\n\n(Source - https://en.wikipedia.org/wiki/Durban )\n\n_Target Audience_\n\nThrough this project we are expecting following people to benefit out of the findings.\n\n* People migrating city for work.\n* Business person looking for new location to start office etc.\n* Tourist.\n* Restaurants to finalized menu based on the type or people, their likings based on feedbacks etc.\n* Sports Events, Activities Organizers and many more.", 
            "cell_type": "markdown", 
            "metadata": {}
        }, 
        {
            "source": "_B Data_\n\nFrom the view of the data, this project contains various data sources. and this required data can be gathered from:\n\nPort Elizabeth and Durban City information, including districts and neighborhoods, can be obtained from Wikipedia:\n\n(Source - https://en.wikipedia.org/wiki/Port_Elizabeth) & (Source - https://en.wikipedia.org/wiki/Durban )\n\nPhotos and Picture of Port Elizabeth and Durban City used for Presentation from\n\n(Source - https://afrotourism.com/travelogue/)\n\nFirst, the location data consists of The data used for this project will be acquired from Source - ( https://www.sapostalcodes.info/) . The datasets consists of the postal codes and suburb names of each city.\n\nSecond, the Foursquare API provides a database of more than 100 million places, globally.In order to obtain venues and their categories we will use Foursquare API search feature [FOURSQUARE] (Source - https://foursquare.com/ ) to collect neighborhood venue information as well as the longitude and latitude details of each suburb. Details about local venues and locality will provide insight into the qualities of a neighborhood.", 
            "cell_type": "markdown", 
            "metadata": {}
        }, 
        {
            "execution_count": null, 
            "cell_type": "code", 
            "metadata": {}, 
            "outputs": [], 
            "source": ""
        }
    ], 
    "metadata": {
        "kernelspec": {
            "display_name": "Python 3.6", 
            "name": "python3", 
            "language": "python"
        }, 
        "language_info": {
            "mimetype": "text/x-python", 
            "nbconvert_exporter": "python", 
            "version": "3.6.8", 
            "name": "python", 
            "file_extension": ".py", 
            "pygments_lexer": "ipython3", 
            "codemirror_mode": {
                "version": 3, 
                "name": "ipython"
            }
        }
    }, 
    "nbformat": 4
}